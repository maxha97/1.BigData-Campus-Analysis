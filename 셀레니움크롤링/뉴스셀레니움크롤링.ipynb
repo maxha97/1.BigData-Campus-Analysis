{
 "cells": [
  {
   "cell_type": "code",
   "execution_count": 1,
   "metadata": {},
   "outputs": [
    {
     "name": "stdout",
     "output_type": "stream",
     "text": [
      "\u001b[33mWARNING: The directory '/home/seluser/.cache/pip' or its parent directory is not owned or is not writable by the current user. The cache has been disabled. Check the permissions and owner of that directory. If executing pip with sudo, you may want sudo's -H flag.\u001b[0m\n",
      "Requirement already satisfied: fake_useragent in /opt/conda/lib/python3.7/site-packages (0.1.11)\n"
     ]
    }
   ],
   "source": [
    "!pip install fake_useragent"
   ]
  },
  {
   "cell_type": "code",
   "execution_count": 2,
   "metadata": {},
   "outputs": [],
   "source": [
    "from selenium import webdriver\n",
    "from pyvirtualdisplay import Display #도커 사용자가 필요함, 가상의 화면을 흉내냄.\n",
    "from selenium.webdriver.common.keys import Keys\n",
    "from selenium.webdriver.common.desired_capabilities import DesiredCapabilities\n",
    "from selenium.webdriver.support.ui import WebDriverWait\n",
    "from selenium.webdriver.support import expected_conditions as EC\n",
    "from selenium.common.exceptions import TimeoutException\n",
    "from bs4 import BeautifulSoup\n",
    "from fake_useragent import UserAgent\n",
    "import time"
   ]
  },
  {
   "cell_type": "code",
   "execution_count": 3,
   "metadata": {},
   "outputs": [],
   "source": [
    "options = webdriver.ChromeOptions()\n",
    "options.add_argument('headless')\n",
    "options.add_argument('window-size=1920x1080')\n",
    "options.add_argument('disable-gpu')\n",
    "ua = { 'User-Agent': UserAgent().chrome}\n",
    "options.add_argument(ua)\n",
    "options.add_argument('lang=ko_KR')"
   ]
  },
  {
   "cell_type": "code",
   "execution_count": 4,
   "metadata": {},
   "outputs": [],
   "source": [
    "remote_url = 'http://localhost:4444/wd/hub'\n",
    "driver = webdriver.Remote(remote_url, DesiredCapabilities.CHROME)"
   ]
  },
  {
   "cell_type": "code",
   "execution_count": 5,
   "metadata": {},
   "outputs": [
    {
     "name": "stdout",
     "output_type": "stream",
     "text": [
      "日, 내달 5일부터 체류 자격 보유 유학생 등 외국인 재입국 허용\n"
     ]
    }
   ],
   "source": [
    "driver.get('https://news.v.daum.net/v/20200730094516977')\n",
    "print(driver.title)"
   ]
  },
  {
   "cell_type": "code",
   "execution_count": 6,
   "metadata": {},
   "outputs": [
    {
     "name": "stdout",
     "output_type": "stream",
     "text": [
      "https://news.v.daum.net/v/20200730094516977\n"
     ]
    }
   ],
   "source": [
    "print(driver.current_url)"
   ]
  },
  {
   "cell_type": "code",
   "execution_count": 7,
   "metadata": {},
   "outputs": [
    {
     "name": "stdout",
     "output_type": "stream",
     "text": [
      "[이미지출처=로이터연합뉴스]\n",
      "[아시아경제 정현진 기자] 일본 정부가 다음달 5일부터 체류 자격을 보유한 외국인의 재입국을 허용한다고 밝혔다. 체류 비자를 갖고 있는 상태로 출국한 뒤 신종 코로나바이러스감염증(코로나19) 영향으로 다시 일본에 입국하지 못한 유학생 등에 대한 조치다.\n",
      "일본 외무성은 29일 코로나19 유입을 막기 위해 입국을 원칙적으로 불허하는 국가에서의 외국인 재입국을 제한적으로 허용하기로 했다면서 이같이 밝혔다. 재입국 대상은 유학생, 상사주재원, 기능실습생 등 일본 체류비자를 보유한 모든 외국인으로, 일본 정부가 입국 거부 대상으로 지정하기 전에 해당국으로 출국한 사람이다.\n",
      "일본은 지난 4월 초부터 한국과 중국을 시작으로 코로나19 관련 입국 금지 대상국가를 늘려 현재 146개국(지역)에서의 외국인 입국을 원칙적으로 제한하고 있다.\n",
      "다만 일본 외무성은 입국 금지 대상국으로 지정한 이후 해당국으로 나간 외국인은 재입국이 어렵다는 점을 인지하고 출국했다는 점을 감안해 이번 재입국 허용 대상에서 제외키로 했다. 이에 따라 일본 체류자격을 가진 한국인 유학생이나 상사주재원 등은 일본 정부가 입국 금지를 예고하기 전날인 4월 2일 이전에 출국한 경우에 재입국이 가능할 것으로 보인다.\n",
      "재입국 시에는 각국의 일본 공관에서 재입국 관련 서류 제출 확인서를 발급 받아야하며 일본 입국 전 취득한 검사증명서를 제출해야한다.\n",
      "한편 일본 외무성은 베트남과 태국에서 비즈니스 목적으로 입국하는 장기 체류자와 상사주재원을 대상으로 30일부터 비자 발급을 시작한다. 일본이 코로나19 관련 입국 금지 대상국 가운데 제한적이나마 비자 발급을 시작한 것은 두 나라가 처음이다. 일본은 베트남을 포함한 4개국에 이어 2차로 한국, 중국 등과도 비즈니스 목적의 왕래를 재개하기 위한 양자 협의를 시작한다고 지난 22일 발표했었다.\n",
      "정현진 기자 jhj48@asiae.co.kr\n"
     ]
    }
   ],
   "source": [
    "print(driver.find_element_by_css_selector('#harmonyContainer').text)"
   ]
  },
  {
   "cell_type": "code",
   "execution_count": 8,
   "metadata": {},
   "outputs": [
    {
     "name": "stdout",
     "output_type": "stream",
     "text": [
      "\n",
      "\n",
      "\n",
      "\n",
      "\n",
      "            [이미지출처=로이터연합뉴스]\n",
      "           \n",
      "\n",
      "[아시아경제 정현진 기자] 일본 정부가 다음달 5일부터 체류 자격을 보유한 외국인의 재입국을 허용한다고 밝혔다. 체류 비자를 갖고 있는 상태로 출국한 뒤 신종 코로나바이러스감염증(코로나19) 영향으로 다시 일본에 입국하지 못한 유학생 등에 대한 조치다.\n",
      "일본 외무성은 29일 코로나19 유입을 막기 위해 입국을 원칙적으로 불허하는 국가에서의 외국인 재입국을 제한적으로 허용하기로 했다면서 이같이 밝혔다. 재입국 대상은 유학생, 상사주재원, 기능실습생 등 일본 체류비자를 보유한 모든 외국인으로, 일본 정부가 입국 거부 대상으로 지정하기 전에 해당국으로 출국한 사람이다.\n",
      "일본은 지난 4월 초부터 한국과 중국을 시작으로 코로나19 관련 입국 금지 대상국가를 늘려 현재 146개국(지역)에서의 외국인 입국을 원칙적으로 제한하고 있다.\n",
      "다만 일본 외무성은 입국 금지 대상국으로 지정한 이후 해당국으로 나간 외국인은 재입국이 어렵다는 점을 인지하고 출국했다는 점을 감안해 이번 재입국 허용 대상에서 제외키로 했다. 이에 따라 일본 체류자격을 가진 한국인 유학생이나 상사주재원 등은 일본 정부가 입국 금지를 예고하기 전날인 4월 2일 이전에 출국한 경우에 재입국이 가능할 것으로 보인다.\n",
      "재입국 시에는 각국의 일본 공관에서 재입국 관련 서류 제출 확인서를 발급 받아야하며 일본 입국 전 취득한 검사증명서를 제출해야한다.\n",
      "한편 일본 외무성은 베트남과 태국에서 비즈니스 목적으로 입국하는 장기 체류자와 상사주재원을 대상으로 30일부터 비자 발급을 시작한다. 일본이 코로나19 관련 입국 금지 대상국 가운데 제한적이나마 비자 발급을 시작한 것은 두 나라가 처음이다. 일본은 베트남을 포함한 4개국에 이어 2차로 한국, 중국 등과도 비즈니스 목적의 왕래를 재개하기 위한 양자 협의를 시작한다고 지난 22일 발표했었다.\n",
      "정현진 기자 jhj48@asiae.co.kr\n",
      "\n",
      "\n"
     ]
    }
   ],
   "source": [
    "bs = BeautifulSoup(driver.page_source, 'lxml')\n",
    "print(bs.select('#harmonyContainer')[0].text)\n",
    "#하나라도 리스트 안에 들어있기 때문에 다음과 같은 과정을 거침"
   ]
  },
  {
   "cell_type": "code",
   "execution_count": 9,
   "metadata": {},
   "outputs": [
    {
     "name": "stdout",
     "output_type": "stream",
     "text": [
      "\n",
      "람다256, 데이터 공유 서비스 '베리파이바스프' 출시\n",
      "한국경제 · 18:45\n",
      "\n",
      "전체기사\n"
     ]
    }
   ],
   "source": [
    "from selenium.webdriver.common.by import By\n",
    "driver.get('https://news.daum.net/digital/')\n",
    "link_viewall = WebDriverWait(driver,2).until(\n",
    "    EC.presence_of_element_located((By.CSS_SELECTOR, '#mArticle > div > a'))\n",
    "    )\n",
    "webdriver.ActionChains(driver).click(link_viewall).perform()\n",
    "html = driver.page_source\n",
    "bs = BeautifulSoup(html, 'lxml')\n",
    "print(bs.select('strong.tit_thumb')[0].text)\n",
    "print(bs.select('#kakaoBody')[0].text)"
   ]
  },
  {
   "cell_type": "code",
   "execution_count": 10,
   "metadata": {},
   "outputs": [
    {
     "name": "stdout",
     "output_type": "stream",
     "text": [
      "日, 내달 5일부터 체류 자격 보유 유학생 등 외국인 재입국 허용\n"
     ]
    }
   ],
   "source": [
    "driver.get('https://news.v.daum.net/v/20200730094516977')\n",
    "print(driver.title)"
   ]
  },
  {
   "cell_type": "code",
   "execution_count": 11,
   "metadata": {},
   "outputs": [],
   "source": [
    "driver.get('http://pythonscraping.com/pages/files/form.html')\n",
    "firstnameField = driver.find_element_by_name('firstname')\n",
    "lastnameField = driver.find_element_by_name('lastname')\n",
    "submitButton = driver.find_element_by_id('submit')"
   ]
  },
  {
   "cell_type": "code",
   "execution_count": 12,
   "metadata": {},
   "outputs": [],
   "source": [
    "actions = webdriver.ActionChains(driver).click(firstnameField).send_keys('JungHuyn') \\\n",
    ".click(lastnameField).send_keys('Son').send_keys(Keys.RETURN)"
   ]
  },
  {
   "cell_type": "code",
   "execution_count": 13,
   "metadata": {},
   "outputs": [],
   "source": [
    "actions.perform()"
   ]
  },
  {
   "cell_type": "code",
   "execution_count": 14,
   "metadata": {},
   "outputs": [
    {
     "name": "stdout",
     "output_type": "stream",
     "text": [
      "Hello there, JungHuyn Son!\n"
     ]
    }
   ],
   "source": [
    "print(driver.find_element_by_tag_name('body').text)"
   ]
  },
  {
   "cell_type": "code",
   "execution_count": 15,
   "metadata": {},
   "outputs": [
    {
     "name": "stdout",
     "output_type": "stream",
     "text": [
      "1\n",
      "2\n",
      "[0] 이제는 헌법재판소 탓을 하는군.\n",
      "[1] 세종시 이전하면 모해ㅋㅋ 일만 세종에서 하고 다들 강남에 집 몇채씩 사두고 포기 못하는데\n",
      "[2] 연대, 고대, 서울대 지방으로 이전 시키고 아파트 지어라. 효과 500% 다\n",
      "[3] 왜..세종 집값 더 올리고픈 가부네\n",
      " 또 싸인 준다.세종 사라\n",
      "[4] 강남의 모든 공공시설을 지방으로 보내고 그것에 아파트 때려박아라. 촘촘하게 경차도 못다닐정도로. 절대 강남 집값 안오른다. 고집 부릴려면 이렇게 부려라.\n",
      "[5] 먹고 살거리가 온통 수도권에 집중돼있는데  온국민이 모두 수도권으로 몰리는거 당연한거 아니요?  우리애들도 대학들 거의 대부분 수도권에 집중되어있어  수도권으로 가야하고  먹고 살려면 또 수도권에 살아야 하거든요  이런데도  언제까지 수도권집값타령만 하고 있을건가요?   정치인  경제  부동산전문가  다  웃기는소리만 하고 있어요  답은  수도권인구 분산시키는거밖에 없습니다   아마  10년 20년쯤 되면  수도권에  국민의 4/5가 살날이 멀지 않아보입니다   여기 지방은 먹고살수가 없는구조예요  기업이 없으니  일자리없고 수도권\n",
      "[6] 김현미 부터 짤라라. \n",
      "40년 민주당 지지자이지만 부동산 정책은 닝기리 쓰빠다\n",
      "[7] 청와대. 국회 법원 검찰청 다 \n",
      "집팔고 나가라\n",
      "국민을 투기꾼으로 몰고\n",
      "양분시켜 적대시하는 정책 지긋지긋하다\n",
      "[8] 자고 일어나면 맨날 집값 올릴 폭탄만\n",
      "만드냐?\n",
      " 이제 좀 가만히 좀 있어라.\n",
      "들쑤시지 말고.\n",
      "세종시가면 공무원들 집값 올려 배채우려하냐?\n",
      "[9] 강남에 100층으로 지어\n",
      "임대 아파트\n",
      "[10] 난 충남 소도시에 살고있는데  여긴   상가  빈데 많고  어쩌다 아파트건설 분양하면 1,2순위  거의 제로   분양끝나면  10-20%도 분양이 안됩니다   수도권 집값?    먼  우주얘기 같아요  여긴  미분양  지정지역입니다  수도권 집값난리라고 못살겠다는데 여긴  집이 넘쳐서 못살겠어유   참 아이러니하죠?   근본대책이 있어야죠⟩  인구분산이 답입니다\n",
      "[11] 집값 땅값은 정치인 들이 다 올려놨어\n",
      "정보가 빠르니까 ...\n",
      "[12] 국회의원들 강남 아닌 세종시에 살도록 국회이전시키자\n",
      "[13] 일관성 없는 정책으로\n",
      "실망만~~\n",
      "마치 없는 사람들을 위하는것 같지만\n",
      "결국엔  서민만 집 못사고\n",
      "더 가난하게 하는 이상한 정책\n",
      "맘편히 집사서 살고 싶은데\n",
      "넓은 평수로 이동은 꿈도 못꾸게\n",
      "사다리 다 걷어 찼네요.\n",
      "[14] 청와대와 국회를 지방으로 이전하자. 반드시 시행해야 하는 정책이다.\n",
      "[15] 부동산만 문제냐 너희네 내로남불이 이제 변명불가 수준이 된게 전세계에 뽀록났어\n",
      "[16] 말 먼저 뱉고\n",
      "아님 말구..,이 정부 나도 지긋지긋 하다야\n",
      "[17] 통닭들이 반대.....그러면 그게 바른거다..\n",
      "[18] 행정수도이전은 노무현대통령때부터 줄곳 주장하고 시행해온 국가균형발전의 큰그림이다   국회 청와대등등 그때부터 차근차근 이전하고  공공기관 및  일부 기업들도 수도권 탈피하여 지방이전 해왔다면 지금쯤  국가도 균형발전을 이루어 왔을거고  수도권 인구 주택문제도 자연스레 해결되었을터인데  그이후 수도권규제풀면서 지방이전 물건너가고  이제와서 수도권 집값타령하나?   아무리 그좁은 수도권에  무슨정책을 편들  온국민의 절반이상이 거주하는데 집값이 잡히겠어요?  국가정책은  긴 안목을 가지고  해야합니다  제발   제발\n"
     ]
    }
   ],
   "source": [
    "driver.get('https://news.v.daum.net/v/20200720164406146')\n",
    "loop, count = True, 0\n",
    "\n",
    "while loop and count<10 :\n",
    "    try: \n",
    "        element = WebDriverWait(driver, 5).until(\n",
    "            EC.presence_of_element_located((By.CSS_SELECTOR, '#alex-area > div > div > div > div.cmt_box > div.alex_more > button'))\n",
    "        )\n",
    "        \n",
    "        more_button = driver.find_element_by_css_selector('#alex-area > div > div > div > div.cmt_box > div.alex_more > button')\n",
    "        webdriver.ActionChains(driver).click(more_button).perform()\n",
    "        count += 1\n",
    "        time.sleep(1)\n",
    "        print(count)\n",
    "    except TimeoutException:\n",
    "        loop = False\n",
    "\n",
    "comment_ul = driver.find_element_by_css_selector('#alex-area > div > div > div > div.cmt_box > ul.list_comment')\n",
    "comment_li = comment_ul.find_elements_by_tag_name('li')\n",
    "for num, comment_item in enumerate(comment_li):\n",
    "    print('[' + str(num) + ']', comment_item.find_element_by_css_selector('div > p').text) "
   ]
  },
  {
   "cell_type": "code",
   "execution_count": null,
   "metadata": {},
   "outputs": [],
   "source": []
  },
  {
   "cell_type": "code",
   "execution_count": null,
   "metadata": {},
   "outputs": [],
   "source": []
  },
  {
   "cell_type": "code",
   "execution_count": null,
   "metadata": {},
   "outputs": [],
   "source": []
  }
 ],
 "metadata": {
  "kernelspec": {
   "display_name": "Python 3",
   "language": "python",
   "name": "python3"
  },
  "language_info": {
   "codemirror_mode": {
    "name": "ipython",
    "version": 3
   },
   "file_extension": ".py",
   "mimetype": "text/x-python",
   "name": "python",
   "nbconvert_exporter": "python",
   "pygments_lexer": "ipython3",
   "version": "3.7.6"
  }
 },
 "nbformat": 4,
 "nbformat_minor": 4
}
