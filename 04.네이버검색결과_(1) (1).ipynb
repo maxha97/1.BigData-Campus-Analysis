{
 "cells": [
  {
   "cell_type": "code",
   "execution_count": 1,
   "metadata": {},
   "outputs": [],
   "source": [
    "import requests\n",
    "from bs4 import BeautifulSoup"
   ]
  },
  {
   "cell_type": "code",
   "execution_count": 5,
   "metadata": {},
   "outputs": [],
   "source": [
    "keyword = '빅데이터'\n",
    "# url = 'https://search.naver.com/'\n",
    "url = \"https://search.naver.com/search.naver?f=&fd=2&filetype=0&nso=so%3Ar%2Ca%3Aall%2Cp%3Aall&query={}&research_url=&sm=tab_pge&start=11&where=webkr\".format(keyword)\n",
    "r = requests.get(url)\n",
    "bs = BeautifulSoup(r.text, 'lxml')"
   ]
  },
  {
   "cell_type": "code",
   "execution_count": null,
   "metadata": {},
   "outputs": [],
   "source": [
    "results = []\n",
    "for li in bs.select('li.sh_web_top'):\n",
    "    title = li.select('dl > dt > a')[0].text\n",
    "    title_link = li.select('dl > dt > a')[0]['href']\n",
    "    summary = li.select('dl > dd.sh_web_passage')[0].text\n",
    "    results.append([title, title_link, summary])\n"
   ]
  },
  {
   "cell_type": "code",
   "execution_count": 30,
   "metadata": {},
   "outputs": [
    {
     "name": "stdout",
     "output_type": "stream",
     "text": [
      "3520373\n"
     ]
    }
   ],
   "source": [
    "tot_num = bs.select('span.title_num')[0].text.split('/')[1].strip().replace(',', '').replace('건', '')\n",
    "print(tot_num)"
   ]
  },
  {
   "cell_type": "code",
   "execution_count": 33,
   "metadata": {},
   "outputs": [],
   "source": [
    "def get_naver_search_data(keyword, page, end_page=None):\n",
    "    import requests\n",
    "    from bs4 import BeautifulSoup\n",
    "    import time\n",
    "    \"\"\"네이버 검색 데이터 크롤링 함수\n",
    "    Args :\n",
    "        page (int) : 현재 페이지\n",
    "        end_page (int) : 마지막 페이지\n",
    "    Returns :\n",
    "        list : 수집된 검색 목록 리스트\n",
    "    \"\"\"\n",
    "    url = \\\n",
    "    \"https://search.naver.com/search.naver?f=&fd=2&filetype=0&nso=so%3Ar%2Ca%3Aall%2Cp%3Aall&query={}&research_url=&sm=tab_pge&start=11&where=webkr\".format(keyword)\n",
    "    r = requests.get(url)\n",
    "    bs = BeautifulSoup(r.text, 'lxml')\n",
    "    if end_page is None:\n",
    "        end_page = page + 1\n",
    "    else:\n",
    "        tot_num = int(bs.select('span.title_num')[0].text.split('/')[1].strip().replace(',', '').replace('건', ''))\n",
    "        end_page = int(tot_num / 10)\n",
    "        print(end_page)\n",
    "        if end_page > 1000:\n",
    "            end_page = 1000\n",
    "\n",
    "    results = []\n",
    "    for i in range(page, end_page):\n",
    "        url = \\\n",
    "        \"https://search.naver.com/search.naver?f=&fd=2&filetype=0&nso=so%3Ar%2Ca%3Aall%2Cp%3Aall&query={}&research_url=&sm=tab_pge&start=11&where=webkr\".format(keyword)\n",
    "        r = requests.get(url)\n",
    "        bs = BeautifulSoup(r.text, 'lxml')\n",
    "        for li in bs.select('li.sh_web_top'):\n",
    "            title = li.select('dl > dt > a')[0].text\n",
    "            title_link = li.select('dl > dt > a')[0]['href']\n",
    "            summary = li.select('dl > dd.sh_web_passage')[0].text\n",
    "            results.append([title, title_link, summary])\n",
    "        time.sleep(1)\n",
    "    return results"
   ]
  },
  {
   "cell_type": "code",
   "execution_count": null,
   "metadata": {},
   "outputs": [],
   "source": [
    "get_naver_search_data(1,2)"
   ]
  },
  {
   "cell_type": "code",
   "execution_count": 42,
   "metadata": {},
   "outputs": [],
   "source": [
    "def get_naver_search_data(keyword, page, end_page=None):\n",
    "    import requests\n",
    "    from bs4 import BeautifulSoup\n",
    "    import time\n",
    "    \"\"\"네이버 검색 데이터 크롤링 함수\n",
    "    Args :\n",
    "        page (int) : 현재 페이지\n",
    "        end_page (int) : 마지막 페이지\n",
    "    Returns :\n",
    "        list : 수집된 검색 목록 리스트\n",
    "    \"\"\"\n",
    "    url = \\\n",
    "    \"https://search.naver.com/search.naver?f=&fd=2&filetype=0&nso=so%3Ar%2Ca%3Aall%2Cp%3Aall&query={}&research_url=&sm=tab_pge&start=11&where=webkr\".format(keyword)\n",
    "    r = requests.get(url)\n",
    "    bs = BeautifulSoup(r.text, 'lxml')\n",
    "    tot_num = int(bs.select('span.title_num')[0]\n",
    "                  .text.split('/')[1]\n",
    "                  .strip()\n",
    "                  .replace(',', '')\n",
    "                  .replace('건', ''))\n",
    "   \n",
    "    if end_page is None:\n",
    "        end_page = page + 1\n",
    "    else:\n",
    "        if end_page > 91:\n",
    "            end_page = 91\n",
    "    results = []\n",
    "    for i in range(page, end_page):\n",
    "        j = str(i) + '1'\n",
    "        url = \\\n",
    "        \"https://search.naver.com/search.naver?f=&fd=2&filetype=0&nso=so%3Ar%2Ca%3Aall%2Cp%3Aall&query={}&research_url=&sm=tab_pge&start={}&where=webkr\".format(keyword, j)\n",
    "        print(url)\n",
    "        r = requests.get(url)\n",
    "        bs = BeautifulSoup(r.text, 'lxml')\n",
    "        # 태그작억하는 곳.\n",
    "        for li in bs.select('li.sh_web_top'):\n",
    "            title = li.select('dl > dt > a')[0].text\n",
    "            title_link = li.select('dl > dt > a')[0]['href']\n",
    "            summary = li.select('dl > dd.sh_web_passage')[0].text\n",
    "            results.append([title, title_link, summary])\n",
    "        time.sleep(1)\n",
    "    return results"
   ]
  },
  {
   "cell_type": "code",
   "execution_count": 1,
   "metadata": {},
   "outputs": [
    {
     "ename": "NameError",
     "evalue": "name 'get_naver_search_data' is not defined",
     "output_type": "error",
     "traceback": [
      "\u001b[0;31m\u001b[0m",
      "\u001b[0;31mNameError\u001b[0mTraceback (most recent call last)",
      "\u001b[0;32m<ipython-input-1-8470d164593c>\u001b[0m in \u001b[0;36m<module>\u001b[0;34m\u001b[0m\n\u001b[1;32m      1\u001b[0m \u001b[0mcolumn\u001b[0m \u001b[0;34m=\u001b[0m \u001b[0;34m[\u001b[0m\u001b[0;34m'제목'\u001b[0m\u001b[0;34m,\u001b[0m \u001b[0;34m'링크'\u001b[0m\u001b[0;34m,\u001b[0m \u001b[0;34m'요약'\u001b[0m\u001b[0;34m]\u001b[0m\u001b[0;34m\u001b[0m\u001b[0;34m\u001b[0m\u001b[0m\n\u001b[0;32m----> 2\u001b[0;31m \u001b[0mresults\u001b[0m \u001b[0;34m=\u001b[0m \u001b[0mget_naver_search_data\u001b[0m\u001b[0;34m(\u001b[0m\u001b[0;34m'bigdata'\u001b[0m\u001b[0;34m,\u001b[0m \u001b[0;36m2\u001b[0m\u001b[0;34m)\u001b[0m\u001b[0;34m\u001b[0m\u001b[0;34m\u001b[0m\u001b[0m\n\u001b[0m\u001b[1;32m      3\u001b[0m \u001b[0;34m\u001b[0m\u001b[0m\n\u001b[1;32m      4\u001b[0m \u001b[0mdf\u001b[0m \u001b[0;34m=\u001b[0m \u001b[0mpd\u001b[0m\u001b[0;34m.\u001b[0m\u001b[0mDataFrame\u001b[0m\u001b[0;34m(\u001b[0m\u001b[0mresults\u001b[0m\u001b[0;34m,\u001b[0m \u001b[0mcolumns\u001b[0m \u001b[0;34m=\u001b[0m \u001b[0mcolumn\u001b[0m\u001b[0;34m)\u001b[0m\u001b[0;34m\u001b[0m\u001b[0;34m\u001b[0m\u001b[0m\n\u001b[1;32m      5\u001b[0m \u001b[0;31m# df.to_excel('search_keyword.xlsx', sheet_name='검색결과', columns=column, header=True, startrow=1)\u001b[0m\u001b[0;34m\u001b[0m\u001b[0;34m\u001b[0m\u001b[0;34m\u001b[0m\u001b[0m\n",
      "\u001b[0;31mNameError\u001b[0m: name 'get_naver_search_data' is not defined"
     ]
    }
   ],
   "source": [
    "column = ['제목', '링크', '요약']\n",
    "results = get_naver_search_data('bigdata', 2)\n",
    "\n",
    "df = pd.DataFrame(results, columns = column)\n",
    "# df.to_excel('search_keyword.xlsx', sheet_name='검색결과', columns=column, header=True, startrow=1)\n",
    "df.to_csv('search_keyword.csv', header=True, index=False)"
   ]
  },
  {
   "cell_type": "code",
   "execution_count": null,
   "metadata": {},
   "outputs": [],
   "source": [
    "def get_naver_search_data(keyword, page, end_page=None):\n",
    "    import requests\n",
    "    from bs4 import BeautifulSoup\n",
    "    import time\n",
    "    r = requests.get(url)\n",
    "    bs = BeautifulSoup(r.text, 'lxml')"
   ]
  }
 ],
 "metadata": {
  "kernelspec": {
   "display_name": "Python 3",
   "language": "python",
   "name": "python3"
  },
  "language_info": {
   "codemirror_mode": {
    "name": "ipython",
    "version": 3
   },
   "file_extension": ".py",
   "mimetype": "text/x-python",
   "name": "python",
   "nbconvert_exporter": "python",
   "pygments_lexer": "ipython3",
   "version": "3.7.6"
  }
 },
 "nbformat": 4,
 "nbformat_minor": 4
}
