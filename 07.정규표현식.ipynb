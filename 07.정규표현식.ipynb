{
 "cells": [
  {
   "cell_type": "code",
   "execution_count": 1,
   "metadata": {},
   "outputs": [],
   "source": [
    "from urllib.request import urlopen\n",
    "from bs4 import BeautifulSoup\n",
    "import re"
   ]
  },
  {
   "cell_type": "code",
   "execution_count": 5,
   "metadata": {},
   "outputs": [
    {
     "name": "stdout",
     "output_type": "stream",
     "text": [
      "<http.client.HTTPResponse object at 0x7f18147ea650>\n"
     ]
    }
   ],
   "source": [
    "for index in range(1,2):\n",
    "    print(urlopen('https://www.seeko.kr/zboard4/zboard.php?id=mainnews&page=' + str(index) + '&select_arrange=headnum&desc=asc&category=&sn=off&ss=on&sc=off&keyword=&sn1=&divpage=10'))\n",
    "    res = urlopen('https://www.seeko.kr/zboard4/zboard.php?id=mainnews&page=' +\n",
    "                str(index) + '&select_arrange=headnum&desc=asc&category=&sn=off&ss=on&sc=off&keyword=&sn1=&divpage=10')\n",
    "    bs = BeautifulSoup(res, 'html.parser')\n",
    "    data = bs.find_all('td', 'article_subject')\n",
    "    for item in data:\n",
    "        print(re.sub('\\[0-9+\\]'), ' ', item.get_text())\n",
    "\n"
   ]
  },
  {
   "cell_type": "code",
   "execution_count": 21,
   "metadata": {},
   "outputs": [
    {
     "name": "stdout",
     "output_type": "stream",
     "text": [
      "// flash 오류를 우회하기 위한 함수 추가\n",
      "function _flash_removeCallback() {}\n",
      "\n",
      "롯데하이마트에서 고객들이 TV를 살펴보고 있다.2분기 회복세를 보였던 세계 TV용 디스플레이 패널 출하량이 3분기에는 더 크게 늘어날 전망이다. 지난해보다는 출하량이 줄겠지만, 꾸준히 출하량이 늘면서 코로나19 영향에서 벗어나는 모양새다. 패널 수요 증가로 가격도 함께 상승해 TV 제조사에 부담으로 작용할 전망이다.29일 시장조사업체 트렌드포스에 따르면 2분기 세계 TV용 패널 출하량이 6479만대를 기록, 1분기 보다 0.8% 증가했다. 2분기 패널 출하량이 늘어난 배경으로는 TV 제조사들의 높은 재고 수요를 꼽았다.상반기 전체 TV 패널 출하량은 1억2905만대로 지난해 상반기 1억4081만대보다 8.4% 감소했다. 업체별로는 중국 BOE가 2326만대를 출하하며 1위에 올랐다. 이어 CSOT(2130만대), 대만 이노룩스(2034) 순으로 집계됐다.국내 업체인 삼성디스플레이는 1213만대로 5위를, LG디스플레이는 1179만대로 6위를 각각 기록했다.상반기 패널 출하량이 전년 대비 감소했지만, 코로나19가 시작되며 시장이 극도로 침체됐던 1분기에 비해 2분기에 성장세를 보인 것은 고무적이다. 특히 2분기 초 삼성전자와 LG전자를 포함한 TV 제조사들이 코로나19로 인한 공장 셧다운 등 생산 차질을 거쳤음에도 패널 출하량이 증가한 것도 눈에 띈다. 5월과 6월부터 코로나19 영향이 약화됐고, TV 수요가 살아난 것이 영향을 미쳤다.TV 시장이 회복되면서 패널 제조사들은 생산을 확대하기 시작했다. 트렌드포스는 패널 수요와 가격이 동시에 상승하면서 패널 업체들의 가동률이 최대치에 이른 것으로 보고 있다. 다만 코로나19로 인해 공장 증설 등은 지연되는 것으로 파악된다.패널 출하량 증가세는 하반기 TV 시장 확대와 맞물리며 더욱 두드러질 것으로 예상된다. 3분기 TV용 패널 출하량은 2분기보다 4.6% 늘어난 6780만대로 예상된다. 블랙프라이데이, 크리스마스 등 대형 쇼핑 이벤트가 집중돼 연중 TV 판매량이 가장 늘어나는 4분기를 앞두고 TV 제조사들이 패널 재고를 늘릴 것으로 예상되기 때문이다.트렌드포스는 “5월부터 코로나19가 안정화되면서 각 나라들이 국가 봉쇄를 완화하고, 미국 정부가 지원금을 지급하기 시작했다”면서 “TV 제조사들은 할인 전략을 펼치며 소비자 수요를 자극했고, 패널 재고도 늘렸다”고 분석헀다.TV 제조사들은 침체됐던 글로벌 TV 시장이 살아나는 것을 반기고 있다. 다만 패널 가격이 급격히 상승하는 것은 수익성에 상당한 부담으로 작용할 것으로 점쳐진다. 7월 55인치 TV 패널 가격은 지난해 말 저점과 비교하면 25~30% 가까이 상승했다.권건호기자 wingh1@etnews.com▶ '플랫폼으로서의 오프라인 리테일 이노베이션 2020' 8월 21일 개최▶ 네이버 홈에서 [전자신문] 구독하기 [Copyright ⓒ 전자신문 & 전자신문인터넷, 무단전재 및 재배포 금지]\n",
      "['wingh1@etnews.com']\n"
     ]
    }
   ],
   "source": [
    "url = 'https://news.naver.com/main/read.nhn?mode=LSD&mid=shm&sid1=105&oid=030&aid=0002895742'\n",
    "res = urlopen(url)\n",
    "bs = BeautifulSoup(res, 'html.parser')\n",
    "data = bs.select('div#articleBodyContents')[0].text.strip()\n",
    "print(data)\n",
    "regex = re.compile('[0-9a-zA-Z]*@[0-9a-zA-Z]*.[a-zA-Z]*')\n",
    "print(regex.findall(data))"
   ]
  },
  {
   "cell_type": "code",
   "execution_count": null,
   "metadata": {},
   "outputs": [],
   "source": []
  }
 ],
 "metadata": {
  "kernelspec": {
   "display_name": "Python 3",
   "language": "python",
   "name": "python3"
  },
  "language_info": {
   "codemirror_mode": {
    "name": "ipython",
    "version": 3
   },
   "file_extension": ".py",
   "mimetype": "text/x-python",
   "name": "python",
   "nbconvert_exporter": "python",
   "pygments_lexer": "ipython3",
   "version": "3.7.6"
  }
 },
 "nbformat": 4,
 "nbformat_minor": 4
}
