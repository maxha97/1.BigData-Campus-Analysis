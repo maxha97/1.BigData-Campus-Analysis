{
 "cells": [
  {
   "cell_type": "code",
   "execution_count": 1,
   "metadata": {},
   "outputs": [],
   "source": [
    "from bs4 import BeautifulSoup\n",
    "import requests"
   ]
  },
  {
   "cell_type": "code",
   "execution_count": 2,
   "metadata": {},
   "outputs": [
    {
     "name": "stdout",
     "output_type": "stream",
     "text": [
      "[<ul class=\"quickSearchResultBoxSidoGugun\">\n",
      "</ul>]\n"
     ]
    }
   ],
   "source": [
    "starbucks = requests.get('https://www.starbucks.co.kr/store/store_map.do')\n",
    "st_bs = BeautifulSoup(starbucks.text, 'lxml')\n",
    "print(st_bs.select('ul.quickSearchResultBoxSidoGugun'))"
   ]
  },
  {
   "cell_type": "code",
   "execution_count": 3,
   "metadata": {},
   "outputs": [],
   "source": [
    "from selenium import webdriver\n",
    "import time\n",
    "import requests\n",
    "from bs4 import BeautifulSoup"
   ]
  },
  {
   "cell_type": "code",
   "execution_count": 4,
   "metadata": {},
   "outputs": [],
   "source": [
    "driver = webdriver.Chrome()\n",
    "driver.get('https://www.starbucks.co.kr/store/store_map.do')\n",
    "time.sleep(3)"
   ]
  },
  {
   "cell_type": "code",
   "execution_count": 5,
   "metadata": {},
   "outputs": [],
   "source": [
    "loca = driver.find_element_by_class_name('loca_search')\n",
    "loca.click()\n",
    "time.sleep(3)"
   ]
  },
  {
   "cell_type": "code",
   "execution_count": 6,
   "metadata": {},
   "outputs": [
    {
     "name": "stdout",
     "output_type": "stream",
     "text": [
      "부산\n"
     ]
    }
   ],
   "source": [
    "sido = driver.find_element_by_class_name('sido_arae_box')\n",
    "li = sido.find_elements_by_tag_name('li')\n",
    "li[5].click()\n",
    "print(li[5].text)\n",
    "time.sleep(3)"
   ]
  },
  {
   "cell_type": "code",
   "execution_count": 7,
   "metadata": {},
   "outputs": [
    {
     "name": "stdout",
     "output_type": "stream",
     "text": [
      "연제구\n"
     ]
    }
   ],
   "source": [
    "gugun = driver.find_element_by_class_name('gugun_arae_box')\n",
    "li = gugun.find_elements_by_tag_name('li')\n",
    "print(li[13].text)\n",
    "li[13].click()\n",
    "time.sleep(3)"
   ]
  },
  {
   "cell_type": "code",
   "execution_count": 26,
   "metadata": {},
   "outputs": [
    {
     "name": "stdout",
     "output_type": "stream",
     "text": [
      "부산광역시 연제구 교대로 20-2 (거제동)1522-3232\n",
      "부산광역시 연제구 중앙대로 1091 (연산동)1522-3232\n",
      "부산광역시 연제구 반송로 20 (연산동)1522-3232\n",
      "부산광역시 연제구 명륜로 3 (거제제1동) 한양프라자1522-3232\n",
      "부산광역시 연제구 중앙대로 1125 (연산동)1522-3232\n",
      "부산광역시 연제구 중앙대로 1250 (거제동)1522-3232\n"
     ]
    }
   ],
   "source": [
    "html = driver.page_source\n",
    "bs = BeautifulSoup(html, 'lxml')\n",
    "entrie = bs.select('ul.quickSearchResultBoxSidoGugun')[0]\n",
    "li_list = entrie.find_all('li')\n",
    "for li in li_list:\n",
    "#     print(str(li) + '\\n')\n",
    "    print(li.find('p').text)"
   ]
  },
  {
   "cell_type": "code",
   "execution_count": 28,
   "metadata": {},
   "outputs": [],
   "source": [
    "driver.quit()"
   ]
  },
  {
   "cell_type": "code",
   "execution_count": null,
   "metadata": {},
   "outputs": [],
   "source": []
  }
 ],
 "metadata": {
  "kernelspec": {
   "display_name": "Python 3",
   "language": "python",
   "name": "python3"
  },
  "language_info": {
   "codemirror_mode": {
    "name": "ipython",
    "version": 3
   },
   "file_extension": ".py",
   "mimetype": "text/x-python",
   "name": "python",
   "nbconvert_exporter": "python",
   "pygments_lexer": "ipython3",
   "version": "3.7.6"
  }
 },
 "nbformat": 4,
 "nbformat_minor": 4
}
