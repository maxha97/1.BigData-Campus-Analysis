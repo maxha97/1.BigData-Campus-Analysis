{
 "cells": [
  {
   "cell_type": "code",
   "execution_count": 1,
   "metadata": {},
   "outputs": [],
   "source": [
    "from selenium import webdriver\n",
    "from pyvirtualdisplay import Display #도커 사용자가 필요함, 가상의 화면을 흉내냄.\n",
    "from selenium.webdriver.common.keys import Keys\n",
    "from selenium.webdriver.common.desired_capabilities import DesiredCapabilities\n",
    "from selenium.webdriver.support.ui import WebDriverWait\n",
    "from selenium.webdriver.support import expected_conditions as EC\n",
    "from selenium.common.exceptions import TimeoutException\n",
    "from bs4 import BeautifulSoup\n",
    "from fake_useragent import UserAgent\n",
    "import time"
   ]
  },
  {
   "cell_type": "code",
   "execution_count": null,
   "metadata": {},
   "outputs": [],
   "source": []
  },
  {
   "cell_type": "code",
   "execution_count": 42,
   "metadata": {},
   "outputs": [
    {
     "name": "stdout",
     "output_type": "stream",
     "text": [
      "\u001b[33mWARNING: The directory '/home/seluser/.cache/pip' or its parent directory is not owned or is not writable by the current user. The cache has been disabled. Check the permissions and owner of that directory. If executing pip with sudo, you may want sudo's -H flag.\u001b[0m\n",
      "Requirement already satisfied: fake_useragent in /opt/conda/lib/python3.7/site-packages (0.1.11)\n"
     ]
    }
   ],
   "source": [
    "!pip install fake_useragent"
   ]
  },
  {
   "cell_type": "code",
   "execution_count": 2,
   "metadata": {},
   "outputs": [],
   "source": [
    "options= webdriver.ChromeOptions()\n",
    "options.add_argument('headless')\n",
    "options.add_argument('window-size=1920x1080')\n",
    "options.add_argument('disable-gpu')\n",
    "ua={'User-Agent':UserAgent().chrome}\n",
    "options.add_argument(ua)\n",
    "options.add_argument('lang=ko_KR')   #한국사이트를 주로 크롤링 할거다~~\n"
   ]
  },
  {
   "cell_type": "code",
   "execution_count": 3,
   "metadata": {},
   "outputs": [],
   "source": [
    "remote_url ='http://localhost:4444/wd/hub'\n",
    "driver = webdriver.Remote(remote_url, DesiredCapabilities.CHROME)"
   ]
  },
  {
   "cell_type": "code",
   "execution_count": 4,
   "metadata": {},
   "outputs": [
    {
     "name": "stdout",
     "output_type": "stream",
     "text": [
      "日, 내달 5일부터 체류 자격 보유 유학생 등 외국인 재입국 허용\n",
      "https://news.v.daum.net/v/20200730094516977\n",
      "[이미지출처=로이터연합뉴스]\n",
      "[아시아경제 정현진 기자] 일본 정부가 다음달 5일부터 체류 자격을 보유한 외국인의 재입국을 허용한다고 밝혔다. 체류 비자를 갖고 있는 상태로 출국한 뒤 신종 코로나바이러스감염증(코로나19) 영향으로 다시 일본에 입국하지 못한 유학생 등에 대한 조치다.\n",
      "일본 외무성은 29일 코로나19 유입을 막기 위해 입국을 원칙적으로 불허하는 국가에서의 외국인 재입국을 제한적으로 허용하기로 했다면서 이같이 밝혔다. 재입국 대상은 유학생, 상사주재원, 기능실습생 등 일본 체류비자를 보유한 모든 외국인으로, 일본 정부가 입국 거부 대상으로 지정하기 전에 해당국으로 출국한 사람이다.\n",
      "일본은 지난 4월 초부터 한국과 중국을 시작으로 코로나19 관련 입국 금지 대상국가를 늘려 현재 146개국(지역)에서의 외국인 입국을 원칙적으로 제한하고 있다.\n",
      "다만 일본 외무성은 입국 금지 대상국으로 지정한 이후 해당국으로 나간 외국인은 재입국이 어렵다는 점을 인지하고 출국했다는 점을 감안해 이번 재입국 허용 대상에서 제외키로 했다. 이에 따라 일본 체류자격을 가진 한국인 유학생이나 상사주재원 등은 일본 정부가 입국 금지를 예고하기 전날인 4월 2일 이전에 출국한 경우에 재입국이 가능할 것으로 보인다.\n",
      "재입국 시에는 각국의 일본 공관에서 재입국 관련 서류 제출 확인서를 발급 받아야하며 일본 입국 전 취득한 검사증명서를 제출해야한다.\n",
      "한편 일본 외무성은 베트남과 태국에서 비즈니스 목적으로 입국하는 장기 체류자와 상사주재원을 대상으로 30일부터 비자 발급을 시작한다. 일본이 코로나19 관련 입국 금지 대상국 가운데 제한적이나마 비자 발급을 시작한 것은 두 나라가 처음이다. 일본은 베트남을 포함한 4개국에 이어 2차로 한국, 중국 등과도 비즈니스 목적의 왕래를 재개하기 위한 양자 협의를 시작한다고 지난 22일 발표했었다.\n",
      "정현진 기자 jhj48@asiae.co.kr\n"
     ]
    }
   ],
   "source": [
    "driver.get('https://news.v.daum.net/v/20200730094516977')\n",
    "print(driver.title)\n",
    "print(driver.current_url)\n",
    "# print(driver.find_element_by_id('harmonyContainer').text)\n",
    "# print(driver.find_element_by_xpath('//*[@id=\"harmonyContainer\"]').text)\n",
    "print(driver.find_element_by_css_selector('#harmonyContainer').text)"
   ]
  },
  {
   "cell_type": "code",
   "execution_count": 5,
   "metadata": {},
   "outputs": [
    {
     "name": "stdout",
     "output_type": "stream",
     "text": [
      "\n",
      "\n",
      "\n",
      "\n",
      "\n",
      "            [이미지출처=로이터연합뉴스]\n",
      "           \n",
      "\n",
      "[아시아경제 정현진 기자] 일본 정부가 다음달 5일부터 체류 자격을 보유한 외국인의 재입국을 허용한다고 밝혔다. 체류 비자를 갖고 있는 상태로 출국한 뒤 신종 코로나바이러스감염증(코로나19) 영향으로 다시 일본에 입국하지 못한 유학생 등에 대한 조치다.\n",
      "일본 외무성은 29일 코로나19 유입을 막기 위해 입국을 원칙적으로 불허하는 국가에서의 외국인 재입국을 제한적으로 허용하기로 했다면서 이같이 밝혔다. 재입국 대상은 유학생, 상사주재원, 기능실습생 등 일본 체류비자를 보유한 모든 외국인으로, 일본 정부가 입국 거부 대상으로 지정하기 전에 해당국으로 출국한 사람이다.\n",
      "일본은 지난 4월 초부터 한국과 중국을 시작으로 코로나19 관련 입국 금지 대상국가를 늘려 현재 146개국(지역)에서의 외국인 입국을 원칙적으로 제한하고 있다.\n",
      "다만 일본 외무성은 입국 금지 대상국으로 지정한 이후 해당국으로 나간 외국인은 재입국이 어렵다는 점을 인지하고 출국했다는 점을 감안해 이번 재입국 허용 대상에서 제외키로 했다. 이에 따라 일본 체류자격을 가진 한국인 유학생이나 상사주재원 등은 일본 정부가 입국 금지를 예고하기 전날인 4월 2일 이전에 출국한 경우에 재입국이 가능할 것으로 보인다.\n",
      "재입국 시에는 각국의 일본 공관에서 재입국 관련 서류 제출 확인서를 발급 받아야하며 일본 입국 전 취득한 검사증명서를 제출해야한다.\n",
      "한편 일본 외무성은 베트남과 태국에서 비즈니스 목적으로 입국하는 장기 체류자와 상사주재원을 대상으로 30일부터 비자 발급을 시작한다. 일본이 코로나19 관련 입국 금지 대상국 가운데 제한적이나마 비자 발급을 시작한 것은 두 나라가 처음이다. 일본은 베트남을 포함한 4개국에 이어 2차로 한국, 중국 등과도 비즈니스 목적의 왕래를 재개하기 위한 양자 협의를 시작한다고 지난 22일 발표했었다.\n",
      "정현진 기자 jhj48@asiae.co.kr\n",
      "\n",
      "\n"
     ]
    }
   ],
   "source": [
    "bs= BeautifulSoup(driver.page_source, 'lxml')\n",
    "print(bs.select('#harmonyContainer')[0].text)"
   ]
  },
  {
   "cell_type": "code",
   "execution_count": 49,
   "metadata": {},
   "outputs": [
    {
     "name": "stdout",
     "output_type": "stream",
     "text": [
      "IT\n"
     ]
    }
   ],
   "source": [
    "from selenium.webdriver.common.by import By\n",
    "driver.get('https://news.daum.net/digital/')\n",
    "link_viewall= WebDriverWait(driver,2).until(\n",
    "    EC.presence_of_element_located((By.CSS_SELECTOR, '#mArticle > div > a'))\n",
    "    )\n",
    "\n",
    "webdriver.ActionChains(driver).click(link_viewall).perform()\n",
    "\n",
    "html=driver.page_source\n",
    "bs=BeautifulSoup(html, 'lxml')\n",
    "print(bs.select('#kakaoBody')[0].text)"
   ]
  },
  {
   "cell_type": "code",
   "execution_count": 6,
   "metadata": {},
   "outputs": [],
   "source": [
    "driver.get('http://pythonscraping.com/pages/files/form.html')\n",
    "firstnameField = driver.find_element_by_name('firstname')\n",
    "lastnameField=driver.find_element_by_name('lastname')\n",
    "submitButton=driver.find_element_by_id('submit')"
   ]
  },
  {
   "cell_type": "code",
   "execution_count": 7,
   "metadata": {},
   "outputs": [],
   "source": [
    "actions=webdriver.ActionChains(driver).click(firstnameField).send_keys('JungHyun').click(lastnameField).send_keys('Son').send_keys(Keys.RETURN)"
   ]
  },
  {
   "cell_type": "code",
   "execution_count": 8,
   "metadata": {},
   "outputs": [],
   "source": [
    "actions.perform()"
   ]
  },
  {
   "cell_type": "code",
   "execution_count": 9,
   "metadata": {},
   "outputs": [
    {
     "name": "stdout",
     "output_type": "stream",
     "text": [
      "Hello there, JungHyun Son!\n"
     ]
    }
   ],
   "source": [
    "print(driver.find_element_by_tag_name('body').text)"
   ]
  },
  {
   "cell_type": "code",
   "execution_count": 10,
   "metadata": {},
   "outputs": [
    {
     "ename": "SyntaxError",
     "evalue": "invalid syntax (<ipython-input-10-fc1379ade97c>, line 8)",
     "output_type": "error",
     "traceback": [
      "\u001b[0;36m  File \u001b[0;32m\"<ipython-input-10-fc1379ade97c>\"\u001b[0;36m, line \u001b[0;32m8\u001b[0m\n\u001b[0;31m    )\u001b[0m\n\u001b[0m    ^\u001b[0m\n\u001b[0;31mSyntaxError\u001b[0m\u001b[0;31m:\u001b[0m invalid syntax\n"
     ]
    }
   ],
   "source": [
    "#댓글 가져오는 작업\n",
    "driver.get('https://news.v.daum.net/v/20200730103805849')\n",
    "loop, count = True, 0\n",
    "while loop and count <10:\n",
    "    try:\n",
    "        element=WebDriverWait(driver, 5).until(\n",
    "            EC.presence_of_element_located(By.CSS_SELETOR,'#alex-area > div > div > div > div.cmt_box > div.alex_more'))\n",
    "        )\n",
    "        more_button = driver.find_element_by_css_selector('#alex-area > div > div > div > div.cmt_box > div.alex_more')\n",
    "        webdriver.ActionChains(driver).click(more_button).perform()\n",
    "        count += 1\n",
    "        time.sleep(1)\n",
    "    except TimeoutException:\n",
    "        loop=False\n",
    "comment_ul=driver.find_element_by_css_selector('#alex-area > div > div > div > div.cmt_box > div.alex_more')\n",
    "comment_li=comment_ul.find_element_by_tag_name('li')\n",
    "for num,comment_item in enumerate(comment_li):\n",
    "    print()"
   ]
  },
  {
   "cell_type": "code",
   "execution_count": null,
   "metadata": {},
   "outputs": [],
   "source": []
  }
 ],
 "metadata": {
  "kernelspec": {
   "display_name": "Python 3",
   "language": "python",
   "name": "python3"
  },
  "language_info": {
   "codemirror_mode": {
    "name": "ipython",
    "version": 3
   },
   "file_extension": ".py",
   "mimetype": "text/x-python",
   "name": "python",
   "nbconvert_exporter": "python",
   "pygments_lexer": "ipython3",
   "version": "3.7.6"
  }
 },
 "nbformat": 4,
 "nbformat_minor": 4
}
