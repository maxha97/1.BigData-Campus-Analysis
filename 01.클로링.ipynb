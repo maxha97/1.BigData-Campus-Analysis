{
 "cells": [
  {
   "cell_type": "markdown",
   "metadata": {},
   "source": [
    "### 크롤링 순서\n",
    "1. 원하는 웹페이지에 접속 HTML 데이터를 받아온다\n",
    "2. 받아온 HTML을 분석(파싱) 가능한 형태로 가공한다\n",
    "3. 원하는 데이터를 추출한다"
   ]
  },
  {
   "cell_type": "code",
   "execution_count": 104,
   "metadata": {},
   "outputs": [],
   "source": [
    "# 웹페이지에 접속하기 위한 라이브러리\n",
    "import urllib.request"
   ]
  },
  {
   "cell_type": "code",
   "execution_count": 105,
   "metadata": {},
   "outputs": [],
   "source": [
    "#웹섭에 request하기위한 객체 생성\n",
    "request = urllib.request.Request('https://www.naver.com')"
   ]
  },
  {
   "cell_type": "code",
   "execution_count": 106,
   "metadata": {},
   "outputs": [],
   "source": [
    "#request를 통해 urlopen후 결과를 변수에 저장\n",
    "response = urllib.request.urlopen(request)"
   ]
  },
  {
   "cell_type": "code",
   "execution_count": 107,
   "metadata": {},
   "outputs": [],
   "source": [
    "#html_bytes는 바이트 형태로 저장, 문자열로 사용하기 위해서 utf-8로 디코딩 필요\n",
    "html_bytes = response.read()\n",
    "html_str = html_bytes.decode('utf8')"
   ]
  },
  {
   "cell_type": "code",
   "execution_count": null,
   "metadata": {},
   "outputs": [],
   "source": [
    "#html_str의 내용을 엔터값(줄바꿈)으로 분리 작업(\\n)\n",
    "html_split = html_str.split('\\n')\n",
    "print(html_split)"
   ]
  },
  {
   "cell_type": "code",
   "execution_count": null,
   "metadata": {},
   "outputs": [],
   "source": [
    "#분리된 내용을 줄단위로 출력\n",
    "for line in html_split:\n",
    "    print(line)\n",
    "    print()"
   ]
  },
  {
   "cell_type": "markdown",
   "metadata": {},
   "source": [
    "### Requests\n",
    "- 파이썬에서 웹서버에 접속해서 HTML을 받을 수 있는 외부 라이브러리 \n",
    "- 파이썬 설치시 설치되는 기본 라이브러리 보다 사용성 편하고 속도도 빠름\n",
    "- pip install requests"
   ]
  },
  {
   "cell_type": "code",
   "execution_count": 110,
   "metadata": {},
   "outputs": [],
   "source": [
    "import requests"
   ]
  },
  {
   "cell_type": "code",
   "execution_count": 143,
   "metadata": {},
   "outputs": [],
   "source": [
    "response = requests.get('https://www.naver.com')"
   ]
  },
  {
   "cell_type": "code",
   "execution_count": 112,
   "metadata": {},
   "outputs": [
    {
     "name": "stdout",
     "output_type": "stream",
     "text": [
      "200\n"
     ]
    }
   ],
   "source": [
    "print(response.status_code)"
   ]
  },
  {
   "cell_type": "code",
   "execution_count": 113,
   "metadata": {},
   "outputs": [
    {
     "name": "stdout",
     "output_type": "stream",
     "text": [
      "text/html; charset=UTF-8\n"
     ]
    }
   ],
   "source": [
    "print(response.headers['content-type'])"
   ]
  },
  {
   "cell_type": "code",
   "execution_count": 114,
   "metadata": {},
   "outputs": [
    {
     "name": "stdout",
     "output_type": "stream",
     "text": [
      "UTF-8\n"
     ]
    }
   ],
   "source": [
    "print(response.encoding)"
   ]
  },
  {
   "cell_type": "code",
   "execution_count": null,
   "metadata": {},
   "outputs": [],
   "source": [
    "print(response.text)"
   ]
  },
  {
   "cell_type": "markdown",
   "metadata": {},
   "source": [
    "### BeautifulSoup\n",
    "- HTML을 분석 가능한 형태로 가공, 추출할 수 있는 외부 라이브러리\n",
    "- pip install BeautifulSoup4 # (bs4)\n",
    "- BeautifulSoup 사용시 해석 라이브러리(파서)를 지정 해 줘야 한다.\n",
    "- 파서로는 기본적인 html.parser, lxml 등이 있음. (lxml 파서는 외부 라이브러리)"
   ]
  },
  {
   "cell_type": "code",
   "execution_count": 116,
   "metadata": {},
   "outputs": [],
   "source": [
    "import requests\n",
    "from bs4 import BeautifulSoup"
   ]
  },
  {
   "cell_type": "code",
   "execution_count": 117,
   "metadata": {},
   "outputs": [],
   "source": [
    "response = requests.get('https://www.naver.com')\n",
    "bs = BeautifulSoup(response.text, 'html.parser')"
   ]
  },
  {
   "cell_type": "code",
   "execution_count": 118,
   "metadata": {},
   "outputs": [
    {
     "name": "stdout",
     "output_type": "stream",
     "text": [
      "<a href=\"#themecast\"><span>주제별캐스트 바로가기</span></a>\n"
     ]
    }
   ],
   "source": [
    "print(bs.select('a')[1])"
   ]
  },
  {
   "cell_type": "markdown",
   "metadata": {},
   "source": [
    "### Requests-HTML\n",
    "- requests 제작자가 만든 requests에 기능을 추가하여 확장 시킨 라이브러리\n",
    "- requests_html 내부에서 requests를 사용함\n",
    "- requests에서 지원하지 않는 javascript를 지원하여 javascript를 렌더링 할 수 있음\n",
    "- pip install requests_html"
   ]
  },
  {
   "cell_type": "code",
   "execution_count": 119,
   "metadata": {},
   "outputs": [
    {
     "name": "stdout",
     "output_type": "stream",
     "text": [
      "Requirement already satisfied: requests_html in /opt/conda/lib/python3.7/site-packages (0.10.0)\n",
      "Requirement already satisfied: pyppeteer>=0.0.14 in /opt/conda/lib/python3.7/site-packages (from requests_html) (0.2.2)\n",
      "Requirement already satisfied: pyquery in /opt/conda/lib/python3.7/site-packages (from requests_html) (1.4.1)\n",
      "Requirement already satisfied: parse in /opt/conda/lib/python3.7/site-packages (from requests_html) (1.16.0)\n",
      "Requirement already satisfied: requests in /opt/conda/lib/python3.7/site-packages (from requests_html) (2.22.0)\n",
      "Requirement already satisfied: fake-useragent in /opt/conda/lib/python3.7/site-packages (from requests_html) (0.1.11)\n",
      "Requirement already satisfied: w3lib in /opt/conda/lib/python3.7/site-packages (from requests_html) (1.22.0)\n",
      "Requirement already satisfied: bs4 in /opt/conda/lib/python3.7/site-packages (from requests_html) (0.0.1)\n",
      "Requirement already satisfied: urllib3<2.0.0,>=1.25.8 in /opt/conda/lib/python3.7/site-packages (from pyppeteer>=0.0.14->requests_html) (1.25.8)\n",
      "Requirement already satisfied: appdirs<2.0.0,>=1.4.3 in /opt/conda/lib/python3.7/site-packages (from pyppeteer>=0.0.14->requests_html) (1.4.4)\n",
      "Requirement already satisfied: pyee<8.0.0,>=7.0.1 in /opt/conda/lib/python3.7/site-packages (from pyppeteer>=0.0.14->requests_html) (7.0.2)\n",
      "Requirement already satisfied: tqdm<5.0.0,>=4.42.1 in /opt/conda/lib/python3.7/site-packages (from pyppeteer>=0.0.14->requests_html) (4.42.1)\n",
      "Requirement already satisfied: websockets<9.0,>=8.1 in /opt/conda/lib/python3.7/site-packages (from pyppeteer>=0.0.14->requests_html) (8.1)\n",
      "Requirement already satisfied: cssselect>0.7.9 in /opt/conda/lib/python3.7/site-packages (from pyquery->requests_html) (1.1.0)\n",
      "Requirement already satisfied: lxml>=2.1 in /opt/conda/lib/python3.7/site-packages (from pyquery->requests_html) (4.5.0)\n",
      "Requirement already satisfied: idna<2.9,>=2.5 in /opt/conda/lib/python3.7/site-packages (from requests->requests_html) (2.8)\n",
      "Requirement already satisfied: chardet<3.1.0,>=3.0.2 in /opt/conda/lib/python3.7/site-packages (from requests->requests_html) (3.0.4)\n",
      "Requirement already satisfied: certifi>=2017.4.17 in /opt/conda/lib/python3.7/site-packages (from requests->requests_html) (2020.6.20)\n",
      "Requirement already satisfied: six>=1.4.1 in /opt/conda/lib/python3.7/site-packages (from w3lib->requests_html) (1.14.0)\n",
      "Requirement already satisfied: beautifulsoup4 in /opt/conda/lib/python3.7/site-packages (from bs4->requests_html) (4.8.2)\n",
      "Requirement already satisfied: soupsieve>=1.2 in /opt/conda/lib/python3.7/site-packages (from beautifulsoup4->bs4->requests_html) (1.9.5)\n"
     ]
    }
   ],
   "source": [
    "!pip install requests_html"
   ]
  },
  {
   "cell_type": "code",
   "execution_count": 120,
   "metadata": {},
   "outputs": [],
   "source": [
    "from requests_html import HTMLSession"
   ]
  },
  {
   "cell_type": "code",
   "execution_count": 121,
   "metadata": {},
   "outputs": [
    {
     "name": "stdout",
     "output_type": "stream",
     "text": [
      "{'/policy/youthpolicy.html', 'https://vibe.naver.com/artist/3657600', 'https://tv.naver.com/v/14979864', 'https://vibe.naver.com/artist/266987', 'https://tv.naver.com/v/14980087', 'https://nid.naver.com/nidlogin.login', 'http://news.naver.com/main/list.nhn?mode=LPOD&mid=sec&sid1=001&sid2=140&oid=001&isYeonhapFlash=Y&aid=0011771992', 'https://www.vlive.tv/video/204541', 'https://vibe.naver.com/magazines/31255', 'https://tv.naver.com/v/14818971', 'http://newsstand.naver.com/?list=&pcode=945', 'https://tv.naver.com/v/14912507', 'https://tv.naver.com/v/14938850', 'http://news.naver.com/main/list.nhn?mode=LPOD&mid=sec&sid1=001&sid2=140&oid=001&isYeonhapFlash=Y', 'https://land.naver.com/', 'http://newsstand.naver.com/?list=&pcode=117', 'https://tv.naver.com/v/14978882', 'https://tv.naver.com/v/14977807', 'https://tv.naver.com/v/9621192', 'https://tv.naver.com/v/14888467', 'https://tv.naver.com/r', 'https://nid.naver.com/nidlogin.login?mode=form&url=https%3A%2F%2Fwww.naver.com', 'https://tv.naver.com/v/14971324', 'https://www.naver.com/NOTICE/read/1100001014/10000000000030669251', 'https://www.naver.com/NOTICE', 'https://sell.storefarm.naver.com/#/home/about', 'https://recruit.navercorp.com/naver/recruitMain', 'https://tv.naver.com/v/14938756', 'https://tv.naver.com/v/14821744', 'https://finance.naver.com/world/sise.nhn?symbol=STX@SX5E', 'https://naver.github.io', 'https://vibe.naver.com/album/4620028', 'http://entertain.naver.com/home', 'http://whale.naver.com/', 'https://finance.naver.com/world/sise.nhn?symbol=XTR@DAX30', 'http://newsstand.naver.com/?list=&pcode=047', 'https://tv.naver.com/v/14978905', 'http://newsstand.naver.com/?list=&pcode=079', 'https://serieson.naver.com/event/details.nhn?eventNo=12982&productType=BROADCASTING', 'http://newsstand.naver.com/?list=&pcode=376', 'https://help.naver.com/support/contents/contents.nhn?serviceNo=606&categoryNo=16659', 'https://nid.naver.com/nidreminder.form', '/policy/service.html', '/policy/privacy.html', 'https://vibe.naver.com/magazines/31353', 'https://tv.naver.com/v/14589557', 'https://search.naver.com/search.naver?where=nexearch&sm=top_hty&fbm=1&ie=utf8&query=%ED%94%84%EB%A1%9C%EC%A0%9D%ED%8A%B8%EA%BD%83', 'https://tv.naver.com/v/14978629', 'https://tv.naver.com/v/14978474', 'https://vibe.naver.com/artist/5513', 'https://happybean.naver.com', 'https://www.vlive.tv/home/new', 'http://newsstand.naver.com/?list=&pcode=029', 'https://www.vlive.tv/video/204780', 'https://tv.naver.com/v/10445527', 'https://vibe.naver.com/album/4628939', 'https://tv.naver.com/v/14978272', 'https://finance.naver.com/marketindex/exchangeDetail.nhn?marketindexCd=FX_USDKRW', 'https://book.naver.com/', 'https://vibe.naver.com/magazines/31481', 'https://vibe.naver.com/album/4673670', 'more.html', 'https://help.naver.com/support/contents/contents.nhn?serviceNo=605&categoryNo=18215', 'https://whale.naver.com/details/sidebar?=main&', 'https://tv.naver.com/v/14979285', 'https://vibe.naver.com/artist/4945', 'https://vibe.naver.com/magazines/30715', 'https://vibe.naver.com/track/40725821', 'https://tv.naver.com/v/14979283', 'http://news.naver.com/main/list.nhn?mode=LPOD&mid=sec&sid1=001&sid2=140&oid=001&isYeonhapFlash=Y&aid=0011772379', 'https://www.navercorp.com/service/business', 'https://comic.naver.com/', 'https://tv.naver.com/v/14888744', 'http://weather.naver.com/rgn/townWetr.nhn?naverRgnCd=08410108', 'https://tv.naver.com/v/14821161', 'https://help.naver.com/', 'https://tv.naver.com/v/14872560', 'https://finance.naver.com/world/sise.nhn?symbol=RUI@RTSI', 'https://help.naver.com/support/alias/search/word/word_16.naver', 'https://vibe.naver.com/track/40670491', 'https://mail.naver.com/', 'https://www.navercorp.com/service/creators', 'https://tv.naver.com/v/14681248', 'https://tv.naver.com/v/14979946', 'https://vibe.naver.com/magazines/30547', 'https://finance.naver.com/', 'https://vibe.naver.com/album/4707332', 'http://newsstand.naver.com/?list=&pcode=052', 'https://vibe.naver.com/artist/3667937', 'http://newsstand.naver.com/?list=&pcode=963', 'https://vibe.naver.com/magazines/30302', 'http://newsstand.naver.com/?list=&pcode=356', 'https://d2.naver.com', 'http://newsstand.naver.com/?list=&pcode=057', 'https://tv.naver.com/v/14761733', 'http://news.naver.com/main/list.nhn?mode=LPOD&mid=sec&sid1=001&sid2=140&oid=001&isYeonhapFlash=Y&aid=0011772030', 'https://entertain.naver.com/home', 'https://vibe.naver.com/album/4686078', 'https://developers.naver.com', 'https://www.naverlabs.com', 'https://vibe.naver.com/magazines', 'http://newsstand.naver.com/?list=&pcode=044', 'https://tv.naver.com/v/14931275', 'http://news.naver.com/main/list.nhn?mode=LPOD&mid=sec&sid1=001&sid2=140&oid=001&isYeonhapFlash=Y&aid=0011772820', 'https://tv.naver.com/v/9395868', 'https://tv.naver.com/v/14878158', '/', 'https://tv.naver.com/v/14979329', 'https://vibe.naver.com/album/4660365', 'https://vibe.naver.com/?from=naver_main', 'https://tv.naver.com/v/14529809', 'https://business.naver.com/service.html', 'http://newsstand.naver.com/?list=&pcode=081', 'http://newsstand.naver.com/?list=&pcode=022', 'http://news.naver.com/main/list.nhn?mode=LPOD&mid=sec&sid1=001&sid2=140&oid=001&isYeonhapFlash=Y&aid=0011772196', 'https://search.naver.com/search.naver?sm=top_hty&fbm=0&ie=utf8&query=%EC%BD%94%EB%A1%9C%EB%82%9819', 'https://tv.naver.com/v/9566398', 'https://nid.naver.com/user/help.nhn?todo=idinquiry', 'http://news.naver.com/', 'https://series.naver.com/broadcasting/home.nhn', 'http://news.naver.com/main/list.nhn?mode=LPOD&mid=sec&sid1=001&sid2=140&oid=001&isYeonhapFlash=Y&aid=0011772191', 'http://newsstand.naver.com/?list=&pcode=404', 'https://vibe.naver.com/artist/320589', 'https://vibe.naver.com/magazines/30372', 'https://help.naver.com/support/welcomePage/guide.help', 'https://tv.naver.com/v/14937769', 'http://newsstand.naver.com/?list=&pcode=815', 'https://vibe.naver.com/track/40929755', 'https://www.navercorp.com/naver/proposalGuide', '/policy/spamcheck.html', 'https://vibe.naver.com/album/4629004', 'http://d2startup.com', 'http://news.naver.com/main/list.nhn?mode=LPOD&mid=sec&sid1=001&sid2=140&oid=001&isYeonhapFlash=Y&aid=0011772041', 'https://tv.naver.com/v/11283880', 'http://news.naver.com/main/list.nhn?mode=LPOD&mid=sec&sid1=001&sid2=140&oid=001&isYeonhapFlash=Y&aid=0011772315', 'https://tv.naver.com/v/14979117', 'https://tv.naver.com/', 'https://www.navercorp.com', 'https://vibe.naver.com/album/4620432', 'https://vibe.naver.com/magazines/30598', 'https://section.blog.naver.com/', 'http://newsstand.naver.com/?list=&pcode=332', 'https://movie.naver.com/', 'http://newsstand.naver.com/?list=&pcode=821', 'https://tv.naver.com/v/14793905', 'http://sports.news.naver.com/', 'https://tv.naver.com/v/13588281', 'https://tv.naver.com/v/14978385', 'https://smartplace.naver.com', 'https://section.cafe.naver.com/', 'https://tv.naver.com/v/9369738', 'https://vibe.naver.com/artist/224', 'https://vibe.naver.com/track/41044656', 'http://newsstand.naver.com/?list=&pcode=215', 'https://news.naver.com/', 'https://tv.naver.com/v/14978383', 'https://tv.naver.com/v/14978472', 'https://vibe.naver.com/chart/domestic', 'https://vibe.naver.com/magazines/30455', 'https://developers.naver.com/docs/common/openapiguide/#/apilist.md', 'https://jr.naver.com', 'https://map.naver.com/', 'http://newsstand.naver.com/?list=&pcode=422', 'https://tv.naver.com/v/14978426', 'https://vibe.naver.com/track/41044777', 'https://www.vlive.tv/video/204547', 'http://news.naver.com/main/list.nhn?mode=LPOD&mid=sec&sid1=001&sid2=140&oid=001&isYeonhapFlash=Y&aid=0011772239', 'https://tv.naver.com/v/14983275', 'https://tv.naver.com/v/14823647', 'https://www.vlive.tv/upcoming', 'https://vibe.naver.com/artist/2429858', 'https://vibe.naver.com/track/40726822', 'http://newsstand.naver.com/?list=&pcode=009', 'https://tv.naver.com/v/14977309', 'http://update.whale.naver.net/downloads/installers/NaverWhale.dmg', 'https://help.naver.com/support/service/main.nhn?serviceNo=606&categoryNo=1987', 'http://news.naver.com/main/list.nhn?mode=LPOD&mid=sec&sid1=001&sid2=140&oid=001&isYeonhapFlash=Y&aid=0011772554', 'http://news.naver.com/main/main.nhn?mode=LSD&mid=shm&sid1=101', 'https://tv.naver.com/v/14969891', 'https://tv.naver.com/v/13563718', 'https://tv.naver.com/v/14602566', 'https://vibe.naver.com', 'https://order.pay.naver.com/home', 'https://tv.naver.com/v/14979287', 'https://vibe.naver.com/magazines/30670', 'https://tv.naver.com/v/14907835', 'http://newsstand.naver.com/?list=&pcode=082', 'https://help.naver.com/support/contents/contents.nhn?serviceNo=606&categoryNo=16658', 'http://newsstand.naver.com/?list=&pcode=073', 'https://vibe.naver.com/track/40668585', 'https://vibe.naver.com/album/4686109', 'https://tv.naver.com/v/14835026', 'https://dict.naver.com/', 'https://tv.naver.com/v/12839270', 'http://newsstand.naver.com/config.html', 'https://vibe.naver.com/artist/14848', 'http://newsstand.naver.com/', 'http://newsstand.naver.com/?list=&pcode=808', 'https://vibe.naver.com/track/40725823', 'https://vibe.naver.com/track/40988643', 'https://tv.naver.com/v/14979229', 'https://vibe.naver.com/track/41152031', 'https://shopping.naver.com/', 'https://kin.naver.com/', 'https://tv.naver.com/v/14975085', 'http://newsstand.naver.com/?list=&pcode=028', 'https://nid.naver.com/nidregister.form?url=https%3A%2F%2Fwww.naver.com'}\n"
     ]
    }
   ],
   "source": [
    "session = HTMLSession()\n",
    "r = session.get('https://www.naver.com')\n",
    "print(r.html.links)"
   ]
  },
  {
   "cell_type": "code",
   "execution_count": null,
   "metadata": {},
   "outputs": [],
   "source": []
  },
  {
   "cell_type": "code",
   "execution_count": null,
   "metadata": {},
   "outputs": [],
   "source": []
  }
 ],
 "metadata": {
  "kernelspec": {
   "display_name": "Python 3",
   "language": "python",
   "name": "python3"
  },
  "language_info": {
   "codemirror_mode": {
    "name": "ipython",
    "version": 3
   },
   "file_extension": ".py",
   "mimetype": "text/x-python",
   "name": "python",
   "nbconvert_exporter": "python",
   "pygments_lexer": "ipython3",
   "version": "3.7.6"
  }
 },
 "nbformat": 4,
 "nbformat_minor": 4
}
