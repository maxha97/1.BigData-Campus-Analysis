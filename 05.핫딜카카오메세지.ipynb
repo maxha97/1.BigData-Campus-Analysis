{
 "cells": [
  {
   "cell_type": "code",
   "execution_count": 4,
   "metadata": {},
   "outputs": [],
   "source": [
    "KAKAO_TOKEN = '0f4514ef0987b24073b6cc696f7b5604'"
   ]
  },
  {
   "cell_type": "code",
   "execution_count": 49,
   "metadata": {},
   "outputs": [],
   "source": [
    "# https://slickdeals.net/"
   ]
  },
  {
   "cell_type": "code",
   "execution_count": 68,
   "metadata": {},
   "outputs": [],
   "source": [
    "import requests\n",
    "from bs4 import BeautifulSoup\n",
    "\n",
    "# https://slickdeals.net/\n",
    "keyword = 'ipad'\n",
    "url = 'https://slickdeals.net/newsearch.php?v=2&src=SearchBarV2&q={}&searcharea=deals&searchin=first'.format(keyword)\n",
    "r = requests.get(url)\n",
    "bs = BeautifulSoup(r.text,'lxml')"
   ]
  },
  {
   "cell_type": "code",
   "execution_count": 69,
   "metadata": {},
   "outputs": [
    {
     "name": "stdout",
     "output_type": "stream",
     "text": [
      "<div class=\"resultRow\" data-module-item=\"\" data-thread-id=\"14226911\">\n",
      "<div class=\"dealImg\">\n",
      "<a class=\"bp-c-link\" href=\"/f/14226911-anker-usb-c-to-hdmi-adapter-supports-4k-60hz-11-99-fsss?src=SiteSearchV2_SearchBarV2Algo1\"><img class=\"lazyimg\" data-original=\"https://static.slickdealscdn.com/attachment/5/4/8/0/7/1/150x150/9255029.thumb\" src=\"https://static.slickdealscdn.com/images/slickdeals/blank.gif\"/><noscript><img alt=\"6' Anker USB-C to 4K HDMI Cable $13 or Anker USB-C to 4K HDMI Adapter $12\" src=\"https://static.slickdealscdn.com/attachment/5/4/8/0/7/1/150x150/9255029.thumb\" title=\"6' Anker USB-C to 4K HDMI Cable $13 or Anker USB-C to 4K HDMI Adapter $12\"/></noscript></a> </div>\n",
      "<div class=\"mainDealInfo\">\n",
      "<div class=\"dealWrapper\">\n",
      "<a class=\"dealTitle bp-c-link\" href=\"/f/14226911-anker-usb-c-to-hdmi-adapter-supports-4k-60hz-11-99-fsss?src=SiteSearchV2_SearchBarV2Algo1\" title=\"Anker USB C to HDMI Adapter, Supports 4K 60Hz $11.99 + FSSS\">6' Anker USB-C to 4K HDMI Cable $13 or Anker USB-C to 4K HDMI Adapter $12</a>\n",
      "<div class=\"dealInfo\">\n",
      "<div>\n",
      "                                          Posted 7/27/2020 12:19 PM by <a class=\"username\" href=\"/forums/member.php?u=548071\">DJ3xclusive</a> in Hot Deals\n",
      "          </div>\n",
      "</div>\n",
      "</div>\n",
      "</div>\n",
      "<div class=\"priceCol\">\n",
      "<span class=\"price\"> $12 </span>\n",
      "<br/> <span class=\"store\">\n",
      "              Amazon\n",
      "            </span>\n",
      "</div>\n",
      "<div class=\"ratingCol\">\n",
      "<div class=\"ratingNum\">+31</div>\n",
      "<span class=\"rating\" title=\"Votes: 0 Score: 31\">\n",
      "<span class=\"ratingPartial rate5\"><span class=\"icon icon-thumbs-up3\"></span><span class=\"icon icon-thumbs-up3\"></span><span class=\"icon icon-thumbs-up3\"></span><span class=\"icon icon-thumbs-up3\"></span><span class=\"icon icon-thumbs-up3\"></span></span>\n",
      "<span class=\"ratingFull rate5\"><span class=\"icon icon-thumbs-up3\"></span><span class=\"icon icon-thumbs-up3\"></span><span class=\"icon icon-thumbs-up3\"></span><span class=\"icon icon-thumbs-up3\"></span><span class=\"icon icon-thumbs-up3\"></span></span>\n",
      "</span>\n",
      "<div class=\"dealBadge fp\">Frontpage Deal</div>\n",
      "</div>\n",
      "<div class=\"activityCol\">\n",
      "<div class=\"text\" title=\"15,046 Views\"><span class=\"icon icon-eye\"></span> 15,046 <span class=\"textLabel\">Views</span></div>\n",
      "<div class=\"text\" title=\"46 Comments\"><span class=\"icon icon-bubble2\"></span> 46 <span class=\"textLabel\">Comments</span></div>\n",
      "</div>\n",
      "<div class=\"lastPostCol\" data-href=\"/f/14226911-anker-usb-c-to-hdmi-adapter-supports-4k-60hz-11-99-fsss?src=SiteSearchV2_SearchBarV2Algo1&amp;p=139165463#post139165463\" data-ui=\"clickable\">\n",
      "                  New reply by<br/>\n",
      "<div>\n",
      "<a class=\"username bp-c-link\" href=\"/f/14226911-anker-usb-c-to-hdmi-adapter-supports-4k-60hz-11-99-fsss?src=SiteSearchV2_SearchBarV2Algo1&amp;p=139165463#post139165463\">              ispeed<span class=\"icon icon-arrow-right2\"></span></a> </div>\n",
      "          5 hours ago 7:49 PM\n",
      "              </div>\n",
      "</div>\n"
     ]
    }
   ],
   "source": [
    "rows = bs.select('div.resultRow')\n",
    "print(rows[0])"
   ]
  },
  {
   "cell_type": "code",
   "execution_count": 54,
   "metadata": {},
   "outputs": [
    {
     "name": "stdout",
     "output_type": "stream",
     "text": [
      "Mac OS/Windows Digital Apps: Waltr 2 $5, iStat Menu or Commander One Pro $6 & Many More 6.0 1 0\n",
      "4-Pack SPEATE Nylon Braided Lightning Cable $8.49+ FSSS 8.49 0 0\n",
      "12-packs of 10ft / 3ft / 4in AmazonBasics USB-to-Lightning Cables, Premium Collection, MFi Certified, Various Colors $13 13.0 0 0\n",
      "Anker PowerCore 10000 Portable Charger $15 on Amazon 15.29 0 0\n",
      "Apple - Lightning Digital A/V Adapter $34.00 34.0 0 0\n",
      "OneOdio Adapter-Free Closed Back Over-Ear DJ Stereo Monitor Headphones, Professional Studio Monitor & Mixing, Telescopic Arms with Scale, Newest 50mm Neodymium Drivers $37.99 37.99 0 0\n",
      "POWERADD Pilot 4GS 12000mAh Portable Charger 8 Pin Input Power Bank $11.99 11.99 0 0\n",
      "Additional 30% Off on 5-Star Windows/Mac iPhone Data Transfer Software! Up to 5 LIcenses! $31.49 31.49 0 0\n",
      "Busbi UV Mobile Phone Sanitizer $63.99 + FS 63.99 0 0\n"
     ]
    }
   ],
   "source": [
    "for r in rows:\n",
    "    link = r.select('a.dealTitle')[0]\n",
    "    href = 'https://slickdeals.net' + link.get('href')\n",
    "    title = link.text\n",
    "    price = r.select('span.price')[0].text.replace('$','') \\\n",
    "        .lower().replace('free','0').replace(',' , '').strip()\n",
    "    \n",
    "    if len(price) == 0:\n",
    "        price = '0'\n",
    "        \n",
    "    price = float(price)\n",
    "    hot = len(r.select('span.icon-fire'))\n",
    "    expired = len(r.select('div.expired'))\n",
    "    \n",
    "    if price == 0 or expired ==1:\n",
    "        continue\n",
    "        \n",
    "    print(title,price,hot,expired)"
   ]
  },
  {
   "cell_type": "code",
   "execution_count": 5,
   "metadata": {},
   "outputs": [],
   "source": [
    "import json\n",
    "import requests"
   ]
  },
  {
   "cell_type": "code",
   "execution_count": 10,
   "metadata": {},
   "outputs": [
    {
     "name": "stdout",
     "output_type": "stream",
     "text": [
      "{\"result_code\":0}\n"
     ]
    }
   ],
   "source": [
    "KAKAO_TOKEN = 'rUv9Yy67gdgMTNnVj_NetkwKCrLUcyQ4khmTngorDR8AAAFzmWBL-w'\n",
    "text = '너는 누구니 너는 누구니 너는 누구니'\n",
    "header = {'Authorization': 'Bearer ' +  KAKAO_TOKEN }\n",
    "url = 'https://kapi.kakao.com/v2/api/talk/memo/default/send'\n",
    "post = {\n",
    "    'object_type':'text',\n",
    "    'text':text,\n",
    "    'link':{\n",
    "        'web_url':'https://developers.kakao.com',\n",
    "        'mobile_web_url': 'https://developers.kakao.com'\n",
    "    },\n",
    "}\n",
    "\n",
    "data = { 'template_object':json.dumps(post) }\n",
    "r = requests.post(url, headers = header, data=data)\n",
    "print(r.text)"
   ]
  },
  {
   "cell_type": "code",
   "execution_count": 11,
   "metadata": {},
   "outputs": [],
   "source": [
    "def send_kakao(text):\n",
    "    '''카카오톡 내게 보내기 메세지를 전송하는 함수\n",
    "    Args: \n",
    "        text(str):보낼 문자열\n",
    "    Returns:\n",
    "        Response : 카톡 API 호출 응답 객체 (@이면 성공)\n",
    "    '''\n",
    "    KAKAO_TOKEN = 'rUv9Yy67gdgMTNnVj_NetkwKCrLUcyQ4khmTngorDR8AAAFzmWBL-w'\n",
    "    header = {'Authorization': 'Bearer ' +  KAKAO_TOKEN }\n",
    "    url = 'https://kapi.kakao.com/v2/api/talk/memo/default/send'\n",
    "    post = {\n",
    "        'object_type':'text',\n",
    "        'text':text,\n",
    "        'link':{\n",
    "            'web_url':'https://developers.kakao.com',\n",
    "            'mobile_web_url': 'https://developers.kakao.com'\n",
    "        },\n",
    "    }\n",
    "\n",
    "    data = { 'template_object':json.dumps(post) }\n",
    "    r = requests.post(url, headers = header, data=data)"
   ]
  },
  {
   "cell_type": "code",
   "execution_count": null,
   "metadata": {},
   "outputs": [],
   "source": [
    "send_kakao('너는 너는 너는 너는 너는 너는')"
   ]
  },
  {
   "cell_type": "code",
   "execution_count": 56,
   "metadata": {},
   "outputs": [],
   "source": [
    "def get_hot_deals(keyword):\n",
    "    '''핫딜 사이트를 크롤링하여 상품 목록을 가져오는 함수\n",
    "    Args:\n",
    "        keyword (str) : 상품명\n",
    "    Returns:\n",
    "        list : 상품목록 (상품명, 가격, 핫딜, 경로, 링크주소)\n",
    "    '''\n",
    "    from bs4 import BeautifulSoup\n",
    "    url = \"https://slickdeals.net/newsearch.php?v=2&src=SearchBarV2&q={}&searcharea=deals&searchin=first\".format(keyword)\n",
    "    r = requests.get(url)\n",
    "    bs = BeautifulSoup(r.text,'lxml')\n",
    "    rows = bs.select('div.resultRow')\n",
    "   \n",
    "    results = []\n",
    "    for r in rows:\n",
    "        link = r.select('a.dealTitle')[0]\n",
    "        href = 'https://slickdeals.net' + link.get('href')\n",
    "        title = link.text\n",
    "        price = r.select('span.price')[0].text.replace('$','') \\\n",
    "            .lower().replace('free','0').replace(',' , '').strip()\n",
    "\n",
    "        if len(price) == 0:\n",
    "            price = '0'\n",
    "\n",
    "        price = float(price)\n",
    "        hot = len(r.select('span.icon-fire'))\n",
    "        expired = len(r.select('div.expired'))\n",
    "\n",
    "        if price == 0 or expired ==1:\n",
    "            continue\n",
    "\n",
    "        results.append([title,price,hot,expired,href])\n",
    "    return results"
   ]
  },
  {
   "cell_type": "code",
   "execution_count": 73,
   "metadata": {},
   "outputs": [],
   "source": [
    "def main():\n",
    "    import time\n",
    "    keyword = 'ipad'\n",
    "    min_price = 100.0\n",
    "    max_price = 250.0\n",
    "    while True:\n",
    "        results = get_hot_deals(keyword)\n",
    "        if results is not None:\n",
    "            for r in results:\n",
    "                title = r[0]\n",
    "                price = r[1]\n",
    "                hot = r[2]\n",
    "                href = r[4]\n",
    "        if min_price < price < max_price:\n",
    "            msg = \"{} {} {} {}\".format(title, price, hot, href)\n",
    "            send_kakao(msg)   \n",
    "        time.sleep(60*5)"
   ]
  },
  {
   "cell_type": "code",
   "execution_count": null,
   "metadata": {},
   "outputs": [
    {
     "name": "stdout",
     "output_type": "stream",
     "text": [
      "https://slickdeals.net/newsearch.php?v=2&src=SearchBarV2&q=ipad&searcharea=deals&searchin=first\n"
     ]
    }
   ],
   "source": [
    "main()"
   ]
  },
  {
   "cell_type": "code",
   "execution_count": 70,
   "metadata": {},
   "outputs": [
    {
     "name": "stdout",
     "output_type": "stream",
     "text": [
      "https://slickdeals.net/newsearch.php?v=2&src=SearchBarV2&q=ipad&searcharea=deals&searchin=first\n"
     ]
    },
    {
     "data": {
      "text/plain": [
       "[[\"6' Anker USB-C to 4K HDMI Cable $13 or Anker USB-C to 4K HDMI Adapter $12\",\n",
       "  12.0,\n",
       "  0,\n",
       "  0,\n",
       "  'https://slickdeals.net/f/14226911-anker-usb-c-to-hdmi-adapter-supports-4k-60hz-11-99-fsss?src=SiteSearchV2_SearchBarV2Algo1'],\n",
       " ['64GB Apple iPad Air 3 10.5\" WiFi Tablet (2019) + Airpods 2nd Gen w/ Wired Case $479 & More + Free S/H',\n",
       "  479.0,\n",
       "  1,\n",
       "  0,\n",
       "  'https://slickdeals.net/f/14197970-64gb-apple-ipad-air-3-10-5-wifi-tablet-2019-airpods-2nd-gen-w-wired-case-479-more-free-s-h?src=SiteSearchV2_SearchBarV2Algo1'],\n",
       " ['EDU Members: 64GB Apple iPad Pro 12.9\" Wi-Fi Tablet (Verizon 4G LTE, Gen 3) $699 + Free Shipping',\n",
       "  699.0,\n",
       "  1,\n",
       "  0,\n",
       "  'https://slickdeals.net/f/14178842-b-h-edu-apple-ipad-pro-12-9-64gb-wi-fi-verizon-4g-lte-space-gray-previous-gen-699-free-s-h?src=SiteSearchV2_SearchBarV2Algo1'],\n",
       " ['64GB Apple iPad Pro 11\" Wi-Fi Tablet (Apple Certified Refurbished, 2018 Model) $549 + Free Shipping',\n",
       "  549.0,\n",
       "  1,\n",
       "  0,\n",
       "  'https://slickdeals.net/f/14137100-64gb-apple-ipad-pro-11-wi-fi-tablet-apple-certified-refurbished-2018-model-549-512gb-849?src=SiteSearchV2_SearchBarV2Algo1'],\n",
       " ['50% Off on Spigen Cases for iPad & Galaxy Tab Series from $5.99 + Free Shipping',\n",
       "  5.99,\n",
       "  1,\n",
       "  0,\n",
       "  'https://slickdeals.net/f/14145839-50-off-on-spigen-cases-for-ipad-galaxy-tab-series-from-5-99-free-shipping?src=SiteSearchV2_SearchBarV2Algo1'],\n",
       " ['2018 Apple 12.9\" iPad Pro Tablet -, 512GB, WiFi only Silver - MTFQ2LL/A $899',\n",
       "  899.0,\n",
       "  0,\n",
       "  0,\n",
       "  'https://slickdeals.net/f/14202710-2018-apple-12-9-ipad-pro-tablet-512gb-wifi-only-silver-mtfq2ll-a-899?src=SiteSearchV2_SearchBarV2Algo1'],\n",
       " ['Anker PowerCore+ 10050mAh Portable Charger with Qualcomm Quick Charge 3.0 $12',\n",
       "  12.0,\n",
       "  1,\n",
       "  0,\n",
       "  'https://slickdeals.net/f/14215634-anker-powercore-10050mah-portable-charger-with-qualcomm-quick-charge-3-0-12?src=SiteSearchV2_SearchBarV2Algo1'],\n",
       " [\"Boogie Board Play n' Trace eWriter $18 at Michaels w/ Free Store Pickup\",\n",
       "  18.0,\n",
       "  0,\n",
       "  0,\n",
       "  'https://slickdeals.net/f/14224280-boogie-board-play-n-trace-ewriter-18-at-michaels-w-free-store-pickup?src=SiteSearchV2_SearchBarV2Algo1'],\n",
       " ['AUKEY USB Outlets, USB Wall Outlet, Dual USB Ports 4.2A, 15A $15',\n",
       "  15.0,\n",
       "  0,\n",
       "  0,\n",
       "  'https://slickdeals.net/f/14230373-aukey-usb-outlets-usb-wall-outlet-dual-usb-ports-4-2a-15a-15?src=SiteSearchV2_SearchBarV2Algo1'],\n",
       " ['VersaVu® Classic for iPad® (6th gen./5th gen.), iPad Pro® (9.7-inch), iPad Air® 2, and iPad Air® (Black) for $13.43',\n",
       "  13.43,\n",
       "  0,\n",
       "  0,\n",
       "  'https://slickdeals.net/f/14188895-versavu-classic-for-ipad-6th-gen-5th-gen-ipad-pro-9-7-inch-ipad-air-2-and-ipad-air-black-for-13-43?src=SiteSearchV2_SearchBarV2Algo1'],\n",
       " ['Anker Power Bank with PowerIQ Technology for iPhone, iPad, Samsung Galaxy, Android Phones $15.99',\n",
       "  15.99,\n",
       "  0,\n",
       "  0,\n",
       "  'https://slickdeals.net/f/14175074-anker-power-bank-with-poweriq-technology-for-iphone-ipad-samsung-galaxy-android-phones-15-99?src=SiteSearchV2_SearchBarV2Algo1'],\n",
       " ['Apple iPad Pro 12.9\" (64GB, Wi-Fi + Verizon 4G LTE, Space Gray, Previous Gen) $799',\n",
       "  799.0,\n",
       "  0,\n",
       "  0,\n",
       "  'https://slickdeals.net/f/14169392-apple-ipad-pro-12-9-64gb-wi-fi-verizon-4g-lte-space-gray-previous-gen-799?src=SiteSearchV2_SearchBarV2Algo1']]"
      ]
     },
     "execution_count": 70,
     "metadata": {},
     "output_type": "execute_result"
    }
   ],
   "source": [
    "get_hot_deals('ipad')"
   ]
  },
  {
   "cell_type": "code",
   "execution_count": null,
   "metadata": {},
   "outputs": [],
   "source": []
  }
 ],
 "metadata": {
  "kernelspec": {
   "display_name": "Python 3",
   "language": "python",
   "name": "python3"
  },
  "language_info": {
   "codemirror_mode": {
    "name": "ipython",
    "version": 3
   },
   "file_extension": ".py",
   "mimetype": "text/x-python",
   "name": "python",
   "nbconvert_exporter": "python",
   "pygments_lexer": "ipython3",
   "version": "3.7.6"
  }
 },
 "nbformat": 4,
 "nbformat_minor": 4
}
